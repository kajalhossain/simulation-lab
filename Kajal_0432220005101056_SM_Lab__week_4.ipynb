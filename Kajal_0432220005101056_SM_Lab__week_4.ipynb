{
  "nbformat": 4,
  "nbformat_minor": 0,
  "metadata": {
    "colab": {
      "provenance": []
    },
    "kernelspec": {
      "name": "python3",
      "display_name": "Python 3"
    },
    "language_info": {
      "name": "python"
    }
  },
  "cells": [
    {
      "cell_type": "code",
      "execution_count": 14,
      "metadata": {
        "id": "txFKyzv8kprr"
      },
      "outputs": [],
      "source": [
        "import random # to create random numbers\n",
        "\n",
        "def estimate_pi(num_points):\n",
        "  inside = 0\n",
        "  radius\n",
        "\n",
        "  for _ in range(num_points):\n",
        "    x=random.random()\n",
        "    y=random.random()\n",
        "    if x*x + y*y<= 1:\n",
        "      inside += 1\n",
        "\n",
        "  pi=4* inside / num_points\n",
        "  pritn(\"Estimated pi for\" , num_points,\"points is:\",pi)\n",
        "\n",
        "  estimate_pi(1000)\n",
        "  estimate_pi(5000)\n",
        "  estimate_pi(10000)\n"
      ]
    },
    {
      "cell_type": "code",
      "source": [
        "import random\n",
        "import numpy as np\n",
        "import math\n",
        "\n",
        "student_id = \"56\"\n",
        "R = int(student_id[-2:])\n",
        "range_max = R / 10\n",
        "radius = R / 10\n",
        "\n",
        "full_name = \"Kajal Hossain\"\n",
        "letters_count = len(full_name.replace(\" \", \"\"))\n",
        "base_points = 200 * letters_count\n",
        "\n",
        "def is_inside_circle(x, y, radius):\n",
        "    return x**2 + y**2 <= radius**2\n",
        "\n",
        "def estimate_pi(num_points):\n",
        "    inside = 0\n",
        "    outside = 0\n",
        "\n",
        "    for _ in range(num_points // 2):\n",
        "        x = random.uniform(0, range_max)\n",
        "        y = random.uniform(0, range_max)\n",
        "        if is_inside_circle(x, y, radius):\n",
        "            inside += 1\n",
        "        else:\n",
        "            outside += 1\n",
        "\n",
        "    xs = np.random.rand(num_points // 2) * range_max\n",
        "    ys = np.random.rand(num_points // 2) * range_max\n",
        "    for x, y in zip(xs, ys):\n",
        "        if is_inside_circle(x, y, radius):\n",
        "            inside += 1\n",
        "        else:\n",
        "            outside += 1\n",
        "\n",
        "    estimated_pi = (inside / num_points) * ((range_max ** 2) / (radius ** 2)) * 4\n",
        "    error = abs(math.pi - estimated_pi)\n",
        "\n",
        "    return inside, outside, estimated_pi, error\n",
        "\n",
        "print(f\"{'Range Used':<12} {'Total Points':<14} {'Points Inside':<15} {'Estimated π':<15} {'Error':<15}\")\n",
        "\n",
        "for i in range(1, 6):\n",
        "    total_points = base_points * i\n",
        "    inside, outside, est_pi, err = estimate_pi(total_points)\n",
        "    print(f\"{range_max:<12.2f} {total_points:<14} {inside:<15} {est_pi:<15.6f} {err:<15.6f}\")\n"
      ],
      "metadata": {
        "colab": {
          "base_uri": "https://localhost:8080/"
        },
        "id": "1fms15RywobJ",
        "outputId": "7345a1b2-da61-454f-a559-6e59b6597249"
      },
      "execution_count": 19,
      "outputs": [
        {
          "output_type": "stream",
          "name": "stdout",
          "text": [
            "Range Used   Total Points   Points Inside   Estimated π     Error          \n",
            "5.60         2400           1870            3.116667        0.024926       \n",
            "5.60         4800           3779            3.149167        0.007574       \n",
            "5.60         7200           5629            3.127222        0.014370       \n",
            "5.60         9600           7611            3.171250        0.029657       \n",
            "5.60         12000          9420            3.140000        0.001593       \n"
          ]
        }
      ]
    },
    {
      "cell_type": "code",
      "source": [
        "print(\"Rad: \", radius)"
      ],
      "metadata": {
        "colab": {
          "base_uri": "https://localhost:8080/"
        },
        "id": "_PeoJHRIwqcQ",
        "outputId": "3560b4e9-ec49-4669-ce89-b884e5cc6ac2"
      },
      "execution_count": 20,
      "outputs": [
        {
          "output_type": "stream",
          "name": "stdout",
          "text": [
            "Rad:  5.6\n"
          ]
        }
      ]
    },
    {
      "cell_type": "code",
      "source": [],
      "metadata": {
        "id": "iSCYoRmMrnHv"
      },
      "execution_count": null,
      "outputs": []
    }
  ]
}